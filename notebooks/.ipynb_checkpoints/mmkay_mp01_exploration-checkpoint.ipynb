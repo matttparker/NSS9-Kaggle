{
 "cells": [
  {
   "cell_type": "raw",
   "metadata": {},
   "source": [
    "!pip install scikit-learn==0.24.1"
   ]
  },
  {
   "cell_type": "markdown",
   "metadata": {},
   "source": [
    "# Intro to Multiple Linear Regression\n",
    "\n",
    "In this notebook, we'll be working with data on sales prices for homes in King County, Washington. This dataset was obtained from https://www.kaggle.com/harlfoxem/housesalesprediction."
   ]
  },
  {
   "cell_type": "code",
   "execution_count": 26,
   "metadata": {},
   "outputs": [],
   "source": [
    "import pandas as pd\n",
    "import numpy as np\n",
    "import seaborn as sns\n",
    "import matplotlib.pyplot as plt\n",
    "\n",
    "from sklearn.linear_model import LinearRegression\n",
    "from sklearn.model_selection import train_test_split\n",
    "from sklearn.metrics import mean_squared_error\n",
    "from sklearn.pipeline import Pipeline\n",
    "from sklearn.preprocessing import PolynomialFeatures, PowerTransformer\n",
    "from sklearn.compose import ColumnTransformer, TransformedTargetRegressor"
   ]
  },
  {
   "cell_type": "code",
   "execution_count": 27,
   "metadata": {},
   "outputs": [],
   "source": [
    "train = pd.read_csv('../data/train.csv')"
   ]
  },
  {
   "cell_type": "code",
   "execution_count": 28,
   "metadata": {},
   "outputs": [],
   "source": [
    "test = pd.read_csv('../data/test.csv')"
   ]
  },
  {
   "cell_type": "code",
   "execution_count": 29,
   "metadata": {},
   "outputs": [
    {
     "data": {
      "text/html": [
       "<div>\n",
       "<style scoped>\n",
       "    .dataframe tbody tr th:only-of-type {\n",
       "        vertical-align: middle;\n",
       "    }\n",
       "\n",
       "    .dataframe tbody tr th {\n",
       "        vertical-align: top;\n",
       "    }\n",
       "\n",
       "    .dataframe thead th {\n",
       "        text-align: right;\n",
       "    }\n",
       "</style>\n",
       "<table border=\"1\" class=\"dataframe\">\n",
       "  <thead>\n",
       "    <tr style=\"text-align: right;\">\n",
       "      <th></th>\n",
       "      <th>permeability</th>\n",
       "      <th>phi</th>\n",
       "      <th>s</th>\n",
       "      <th>tau</th>\n",
       "      <th>Fss_1</th>\n",
       "      <th>Fss_2</th>\n",
       "      <th>Fss_3</th>\n",
       "      <th>Fss_4</th>\n",
       "      <th>Fss_5</th>\n",
       "      <th>Fss_6</th>\n",
       "      <th>...</th>\n",
       "      <th>Fvv_87</th>\n",
       "      <th>Fvv_88</th>\n",
       "      <th>Fvv_89</th>\n",
       "      <th>Fvv_90</th>\n",
       "      <th>Fvv_91</th>\n",
       "      <th>Fvv_92</th>\n",
       "      <th>Fvv_93</th>\n",
       "      <th>Fvv_94</th>\n",
       "      <th>Fvv_95</th>\n",
       "      <th>Fvv_96</th>\n",
       "    </tr>\n",
       "  </thead>\n",
       "  <tbody>\n",
       "    <tr>\n",
       "      <th>0</th>\n",
       "      <td>1.50168</td>\n",
       "      <td>0.348046</td>\n",
       "      <td>0.066175</td>\n",
       "      <td>1.076254</td>\n",
       "      <td>0.218608</td>\n",
       "      <td>0.016738</td>\n",
       "      <td>0.013973</td>\n",
       "      <td>0.010761</td>\n",
       "      <td>0.007845</td>\n",
       "      <td>0.006058</td>\n",
       "      <td>...</td>\n",
       "      <td>0.123109</td>\n",
       "      <td>0.123420</td>\n",
       "      <td>0.123285</td>\n",
       "      <td>0.124253</td>\n",
       "      <td>0.123834</td>\n",
       "      <td>0.124025</td>\n",
       "      <td>0.123978</td>\n",
       "      <td>0.123162</td>\n",
       "      <td>0.123861</td>\n",
       "      <td>0.123608</td>\n",
       "    </tr>\n",
       "    <tr>\n",
       "      <th>1</th>\n",
       "      <td>1.06523</td>\n",
       "      <td>0.372941</td>\n",
       "      <td>0.091209</td>\n",
       "      <td>1.066492</td>\n",
       "      <td>0.303711</td>\n",
       "      <td>0.022067</td>\n",
       "      <td>0.020279</td>\n",
       "      <td>0.015333</td>\n",
       "      <td>0.011599</td>\n",
       "      <td>0.010443</td>\n",
       "      <td>...</td>\n",
       "      <td>0.137641</td>\n",
       "      <td>0.138798</td>\n",
       "      <td>0.138436</td>\n",
       "      <td>0.139147</td>\n",
       "      <td>0.139919</td>\n",
       "      <td>0.139985</td>\n",
       "      <td>0.140295</td>\n",
       "      <td>0.139937</td>\n",
       "      <td>0.140854</td>\n",
       "      <td>0.141176</td>\n",
       "    </tr>\n",
       "    <tr>\n",
       "      <th>2</th>\n",
       "      <td>5.89208</td>\n",
       "      <td>0.543737</td>\n",
       "      <td>0.067494</td>\n",
       "      <td>1.044616</td>\n",
       "      <td>0.202395</td>\n",
       "      <td>0.013323</td>\n",
       "      <td>0.017857</td>\n",
       "      <td>0.010725</td>\n",
       "      <td>0.007723</td>\n",
       "      <td>0.007268</td>\n",
       "      <td>...</td>\n",
       "      <td>0.296769</td>\n",
       "      <td>0.296148</td>\n",
       "      <td>0.296531</td>\n",
       "      <td>0.295164</td>\n",
       "      <td>0.295948</td>\n",
       "      <td>0.295024</td>\n",
       "      <td>0.295062</td>\n",
       "      <td>0.294175</td>\n",
       "      <td>0.295345</td>\n",
       "      <td>0.294795</td>\n",
       "    </tr>\n",
       "    <tr>\n",
       "      <th>3</th>\n",
       "      <td>2.90822</td>\n",
       "      <td>0.348942</td>\n",
       "      <td>0.051625</td>\n",
       "      <td>1.079729</td>\n",
       "      <td>0.151966</td>\n",
       "      <td>0.006017</td>\n",
       "      <td>0.007843</td>\n",
       "      <td>0.009391</td>\n",
       "      <td>0.006032</td>\n",
       "      <td>0.005419</td>\n",
       "      <td>...</td>\n",
       "      <td>0.123245</td>\n",
       "      <td>0.122754</td>\n",
       "      <td>0.123450</td>\n",
       "      <td>0.122395</td>\n",
       "      <td>0.122467</td>\n",
       "      <td>0.122060</td>\n",
       "      <td>0.122641</td>\n",
       "      <td>0.122185</td>\n",
       "      <td>0.122437</td>\n",
       "      <td>0.122321</td>\n",
       "    </tr>\n",
       "    <tr>\n",
       "      <th>4</th>\n",
       "      <td>1.04910</td>\n",
       "      <td>0.359812</td>\n",
       "      <td>0.069486</td>\n",
       "      <td>1.139012</td>\n",
       "      <td>0.217286</td>\n",
       "      <td>0.011861</td>\n",
       "      <td>0.014697</td>\n",
       "      <td>0.009664</td>\n",
       "      <td>0.008409</td>\n",
       "      <td>0.006183</td>\n",
       "      <td>...</td>\n",
       "      <td>0.129377</td>\n",
       "      <td>0.129125</td>\n",
       "      <td>0.128754</td>\n",
       "      <td>0.128660</td>\n",
       "      <td>0.129041</td>\n",
       "      <td>0.128493</td>\n",
       "      <td>0.129539</td>\n",
       "      <td>0.129319</td>\n",
       "      <td>0.128960</td>\n",
       "      <td>0.128993</td>\n",
       "    </tr>\n",
       "  </tbody>\n",
       "</table>\n",
       "<p>5 rows × 292 columns</p>\n",
       "</div>"
      ],
      "text/plain": [
       "   permeability       phi         s       tau     Fss_1     Fss_2     Fss_3  \\\n",
       "0       1.50168  0.348046  0.066175  1.076254  0.218608  0.016738  0.013973   \n",
       "1       1.06523  0.372941  0.091209  1.066492  0.303711  0.022067  0.020279   \n",
       "2       5.89208  0.543737  0.067494  1.044616  0.202395  0.013323  0.017857   \n",
       "3       2.90822  0.348942  0.051625  1.079729  0.151966  0.006017  0.007843   \n",
       "4       1.04910  0.359812  0.069486  1.139012  0.217286  0.011861  0.014697   \n",
       "\n",
       "      Fss_4     Fss_5     Fss_6  ...    Fvv_87    Fvv_88    Fvv_89    Fvv_90  \\\n",
       "0  0.010761  0.007845  0.006058  ...  0.123109  0.123420  0.123285  0.124253   \n",
       "1  0.015333  0.011599  0.010443  ...  0.137641  0.138798  0.138436  0.139147   \n",
       "2  0.010725  0.007723  0.007268  ...  0.296769  0.296148  0.296531  0.295164   \n",
       "3  0.009391  0.006032  0.005419  ...  0.123245  0.122754  0.123450  0.122395   \n",
       "4  0.009664  0.008409  0.006183  ...  0.129377  0.129125  0.128754  0.128660   \n",
       "\n",
       "     Fvv_91    Fvv_92    Fvv_93    Fvv_94    Fvv_95    Fvv_96  \n",
       "0  0.123834  0.124025  0.123978  0.123162  0.123861  0.123608  \n",
       "1  0.139919  0.139985  0.140295  0.139937  0.140854  0.141176  \n",
       "2  0.295948  0.295024  0.295062  0.294175  0.295345  0.294795  \n",
       "3  0.122467  0.122060  0.122641  0.122185  0.122437  0.122321  \n",
       "4  0.129041  0.128493  0.129539  0.129319  0.128960  0.128993  \n",
       "\n",
       "[5 rows x 292 columns]"
      ]
     },
     "execution_count": 29,
     "metadata": {},
     "output_type": "execute_result"
    }
   ],
   "source": [
    "train.head()"
   ]
  },
  {
   "cell_type": "code",
   "execution_count": 30,
   "metadata": {},
   "outputs": [],
   "source": [
    "train_easy = train[['permeability', 'phi', 's', 'tau', 'Fss_1', 'Fsv_1', 'Fvv_1']]"
   ]
  },
  {
   "cell_type": "code",
   "execution_count": null,
   "metadata": {},
   "outputs": [],
   "source": [
    "train_easy.head()"
   ]
  },
  {
   "cell_type": "code",
   "execution_count": null,
   "metadata": {},
   "outputs": [],
   "source": [
    "train_easy.columns"
   ]
  },
  {
   "cell_type": "code",
   "execution_count": null,
   "metadata": {},
   "outputs": [],
   "source": [
    "train_log = train_easy"
   ]
  },
  {
   "cell_type": "code",
   "execution_count": null,
   "metadata": {},
   "outputs": [],
   "source": [
    "to_log = ['permeability', 's', 'tau', 'Fss_1', 'Fsv_1']\n",
    "train_log = train_log.apply(lambda x: np.log(x + 1) if x.name in to_log else x)"
   ]
  },
  {
   "cell_type": "code",
   "execution_count": null,
   "metadata": {},
   "outputs": [],
   "source": [
    "train_log.head()"
   ]
  },
  {
   "cell_type": "code",
   "execution_count": null,
   "metadata": {},
   "outputs": [],
   "source": [
    "sns.set(style=\"ticks\", color_codes=True)\n",
    "sns.pairplot(train_log);"
   ]
  },
  {
   "cell_type": "code",
   "execution_count": null,
   "metadata": {},
   "outputs": [],
   "source": [
    "sns.heatmap(train_easy.corr());"
   ]
  },
  {
   "cell_type": "code",
   "execution_count": null,
   "metadata": {},
   "outputs": [],
   "source": [
    "plt.figure(figsize = (10, 6))\n",
    "plt.scatter(data=train_log, x='s', y='permeability', alpha=0.03);"
   ]
  },
  {
   "cell_type": "code",
   "execution_count": null,
   "metadata": {},
   "outputs": [],
   "source": [
    "X = train_log[['s']]\n",
    "y = train_log['permeability']"
   ]
  },
  {
   "cell_type": "code",
   "execution_count": null,
   "metadata": {},
   "outputs": [],
   "source": [
    "X_train, X_test, y_train, y_test = train_test_split(X, y, test_size=0.25, random_state=21)"
   ]
  },
  {
   "cell_type": "code",
   "execution_count": null,
   "metadata": {},
   "outputs": [],
   "source": [
    "MSE = {}\n",
    "\n",
    "for degree in range(1,11):\n",
    "    \n",
    "    pipe = Pipeline(steps = [\n",
    "        ('poly', PolynomialFeatures(degree = degree, include_bias = False)),\n",
    "        ('linreg', LinearRegression())\n",
    "    ])\n",
    "    \n",
    "    pipe.fit(X_train, y_train)\n",
    "    \n",
    "    MSE[degree] = mean_squared_error(y_test, pipe.predict(X_test))\n",
    "    \n",
    "MSE"
   ]
  },
  {
   "cell_type": "code",
   "execution_count": null,
   "metadata": {},
   "outputs": [],
   "source": [
    "pipe = Pipeline(steps = [\n",
    "    ('poly', PolynomialFeatures(degree = 2, include_bias = False)),\n",
    "    ('linreg', LinearRegression())\n",
    "])\n",
    "\n",
    "pipe.fit(X, y)\n",
    "\n",
    "MSE_full = mean_squared_error(y, pipe.predict(X))"
   ]
  },
  {
   "cell_type": "code",
   "execution_count": null,
   "metadata": {},
   "outputs": [],
   "source": [
    "x_grid = np.linspace(min(X['s']), max(X['s']), num = 100).reshape(-1,1)\n",
    "\n",
    "pipe = Pipeline(steps = [\n",
    "    ('poly', PolynomialFeatures(degree = 2, include_bias = False)),\n",
    "    ('linreg', LinearRegression())\n",
    "])\n",
    "\n",
    "pipe.fit(X, y)\n",
    "\n",
    "plt.figure(figsize = (10,6))\n",
    "plt.scatter(X, y, alpha=0.05)\n",
    "plt.plot(x_grid, pipe.predict(x_grid), color = 'black', linewidth = 2);"
   ]
  },
  {
   "cell_type": "code",
   "execution_count": null,
   "metadata": {},
   "outputs": [],
   "source": [
    "pipe['linreg'].intercept_"
   ]
  },
  {
   "cell_type": "code",
   "execution_count": null,
   "metadata": {},
   "outputs": [],
   "source": [
    "pipe['linreg'].coef_"
   ]
  },
  {
   "cell_type": "code",
   "execution_count": null,
   "metadata": {},
   "outputs": [],
   "source": [
    "linreg = LinearRegression().fit(X_train, y_train)"
   ]
  },
  {
   "cell_type": "code",
   "execution_count": null,
   "metadata": {},
   "outputs": [],
   "source": [
    "linreg.coef_"
   ]
  },
  {
   "cell_type": "code",
   "execution_count": null,
   "metadata": {},
   "outputs": [],
   "source": [
    "linreg.intercept_"
   ]
  },
  {
   "cell_type": "code",
   "execution_count": null,
   "metadata": {},
   "outputs": [],
   "source": [
    "mean_squared_error(y_test, linreg.predict(X_test))"
   ]
  },
  {
   "cell_type": "code",
   "execution_count": null,
   "metadata": {},
   "outputs": [],
   "source": [
    "y_pred_dumb = [y_train.mean()]*len(X_test)"
   ]
  },
  {
   "cell_type": "code",
   "execution_count": null,
   "metadata": {},
   "outputs": [],
   "source": [
    "mean_squared_error(y_test, y_pred_dumb)"
   ]
  },
  {
   "cell_type": "code",
   "execution_count": null,
   "metadata": {},
   "outputs": [],
   "source": [
    "linreg.predict(X_test).shape"
   ]
  },
  {
   "cell_type": "code",
   "execution_count": null,
   "metadata": {},
   "outputs": [],
   "source": [
    "#Create an \"X_test\" using the test data from kaggle\n",
    "X_test_final = test[['s']]"
   ]
  },
  {
   "cell_type": "code",
   "execution_count": null,
   "metadata": {},
   "outputs": [],
   "source": [
    "#Run the regression on this new X_test, assigning it to result\n",
    "result = linreg.predict(X_test_final)"
   ]
  },
  {
   "cell_type": "code",
   "execution_count": null,
   "metadata": {},
   "outputs": [],
   "source": [
    "result"
   ]
  },
  {
   "cell_type": "code",
   "execution_count": null,
   "metadata": {},
   "outputs": [],
   "source": [
    "result.shape"
   ]
  },
  {
   "cell_type": "code",
   "execution_count": null,
   "metadata": {},
   "outputs": [],
   "source": [
    "#Convert to DataFrame and (in following cells), format to match submission requirement\n",
    "result_df = pd.DataFrame(result)"
   ]
  },
  {
   "cell_type": "code",
   "execution_count": null,
   "metadata": {},
   "outputs": [],
   "source": [
    "result_df = result_df.reset_index()"
   ]
  },
  {
   "cell_type": "code",
   "execution_count": null,
   "metadata": {},
   "outputs": [],
   "source": [
    "result_df.columns = ['id', 'permeability']"
   ]
  },
  {
   "cell_type": "code",
   "execution_count": null,
   "metadata": {},
   "outputs": [],
   "source": [
    "result_df"
   ]
  },
  {
   "cell_type": "code",
   "execution_count": null,
   "metadata": {},
   "outputs": [],
   "source": [
    "#Export, making sure to remove index\n",
    "result_df.to_csv('scary_submission_mmkay.csv', index=False)"
   ]
  },
  {
   "cell_type": "code",
   "execution_count": null,
   "metadata": {},
   "outputs": [],
   "source": []
  },
  {
   "cell_type": "code",
   "execution_count": null,
   "metadata": {},
   "outputs": [],
   "source": []
  },
  {
   "cell_type": "markdown",
   "metadata": {},
   "source": [
    "## Add Column Transformations - Starting with only Log"
   ]
  },
  {
   "cell_type": "code",
   "execution_count": 43,
   "metadata": {},
   "outputs": [],
   "source": [
    "X = train_easy.drop('permeability', axis=1)\n",
    "y = train_easy['permeability']"
   ]
  },
  {
   "cell_type": "code",
   "execution_count": 44,
   "metadata": {},
   "outputs": [],
   "source": [
    "X_train, X_test, y_train, y_test = train_test_split(X, y, test_size=0.25, random_state = 21)"
   ]
  },
  {
   "cell_type": "code",
   "execution_count": 45,
   "metadata": {},
   "outputs": [],
   "source": [
    "# Create list of columns that are skewed (we'll later run this through a yeo-johnson Power Transformer)\n",
    "train_skewed = pd.DataFrame(train_easy.drop('permeability', axis=1).skew())\n",
    "train_skewed.columns = ['skew']"
   ]
  },
  {
   "cell_type": "code",
   "execution_count": 46,
   "metadata": {},
   "outputs": [
    {
     "data": {
      "text/html": [
       "<div>\n",
       "<style scoped>\n",
       "    .dataframe tbody tr th:only-of-type {\n",
       "        vertical-align: middle;\n",
       "    }\n",
       "\n",
       "    .dataframe tbody tr th {\n",
       "        vertical-align: top;\n",
       "    }\n",
       "\n",
       "    .dataframe thead th {\n",
       "        text-align: right;\n",
       "    }\n",
       "</style>\n",
       "<table border=\"1\" class=\"dataframe\">\n",
       "  <thead>\n",
       "    <tr style=\"text-align: right;\">\n",
       "      <th></th>\n",
       "      <th>skew</th>\n",
       "    </tr>\n",
       "  </thead>\n",
       "  <tbody>\n",
       "    <tr>\n",
       "      <th>phi</th>\n",
       "      <td>0.014769</td>\n",
       "    </tr>\n",
       "    <tr>\n",
       "      <th>s</th>\n",
       "      <td>1.185875</td>\n",
       "    </tr>\n",
       "    <tr>\n",
       "      <th>tau</th>\n",
       "      <td>1.054007</td>\n",
       "    </tr>\n",
       "    <tr>\n",
       "      <th>Fss_1</th>\n",
       "      <td>1.880758</td>\n",
       "    </tr>\n",
       "    <tr>\n",
       "      <th>Fsv_1</th>\n",
       "      <td>1.188534</td>\n",
       "    </tr>\n",
       "    <tr>\n",
       "      <th>Fvv_1</th>\n",
       "      <td>0.024736</td>\n",
       "    </tr>\n",
       "  </tbody>\n",
       "</table>\n",
       "</div>"
      ],
      "text/plain": [
       "           skew\n",
       "phi    0.014769\n",
       "s      1.185875\n",
       "tau    1.054007\n",
       "Fss_1  1.880758\n",
       "Fsv_1  1.188534\n",
       "Fvv_1  0.024736"
      ]
     },
     "execution_count": 46,
     "metadata": {},
     "output_type": "execute_result"
    }
   ],
   "source": [
    "train_skewed"
   ]
  },
  {
   "cell_type": "code",
   "execution_count": 47,
   "metadata": {},
   "outputs": [
    {
     "data": {
      "text/plain": [
       "0.014768806876057179"
      ]
     },
     "execution_count": 47,
     "metadata": {},
     "output_type": "execute_result"
    }
   ],
   "source": [
    "min(train_skewed['skew'])"
   ]
  },
  {
   "cell_type": "code",
   "execution_count": 48,
   "metadata": {},
   "outputs": [],
   "source": [
    "train_skewed = train_skewed[(train_skewed['skew'] > .5) | (train_skewed['skew'] < -0.5)]"
   ]
  },
  {
   "cell_type": "code",
   "execution_count": 49,
   "metadata": {},
   "outputs": [],
   "source": [
    "train_skewed = list(train_skewed.index.values)"
   ]
  },
  {
   "cell_type": "code",
   "execution_count": 50,
   "metadata": {},
   "outputs": [],
   "source": [
    "# Create list of all columns (we'll later run this through a Polynomial Features)\n",
    "train_poly = pd.DataFrame(train_easy.drop('permeability', axis=1))"
   ]
  },
  {
   "cell_type": "code",
   "execution_count": 51,
   "metadata": {},
   "outputs": [],
   "source": [
    "train_poly = list(train_poly.columns)"
   ]
  },
  {
   "cell_type": "code",
   "execution_count": 52,
   "metadata": {},
   "outputs": [],
   "source": [
    "# Run linear regression, with a ColumnTransformer to correct skewed predictor variables.\n",
    "ct = ColumnTransformer(transformers = [\n",
    "    ('yeo-johnson', PowerTransformer(), train_skewed),\n",
    "], remainder = 'passthrough')"
   ]
  },
  {
   "cell_type": "code",
   "execution_count": 53,
   "metadata": {},
   "outputs": [],
   "source": [
    "pipe = Pipeline(steps=[\n",
    "    ('transform', ct),\n",
    "    ('inreg', LinearRegression())\n",
    "])"
   ]
  },
  {
   "cell_type": "code",
   "execution_count": 54,
   "metadata": {},
   "outputs": [
    {
     "data": {
      "text/plain": [
       "Pipeline(steps=[('transform',\n",
       "                 ColumnTransformer(remainder='passthrough',\n",
       "                                   transformers=[('yeo-johnson',\n",
       "                                                  PowerTransformer(),\n",
       "                                                  ['s', 'tau', 'Fss_1',\n",
       "                                                   'Fsv_1'])])),\n",
       "                ('inreg', LinearRegression())])"
      ]
     },
     "execution_count": 54,
     "metadata": {},
     "output_type": "execute_result"
    }
   ],
   "source": [
    "pipe.fit(X_train, y_train)"
   ]
  },
  {
   "cell_type": "code",
   "execution_count": 55,
   "metadata": {},
   "outputs": [
    {
     "data": {
      "text/plain": [
       "4.903110711335676"
      ]
     },
     "execution_count": 55,
     "metadata": {},
     "output_type": "execute_result"
    }
   ],
   "source": [
    "np.sqrt(mean_squared_error(y_test, pipe.predict(X_test)))"
   ]
  },
  {
   "cell_type": "code",
   "execution_count": 56,
   "metadata": {},
   "outputs": [
    {
     "data": {
      "text/plain": [
       "24.040494647614647"
      ]
     },
     "execution_count": 56,
     "metadata": {},
     "output_type": "execute_result"
    }
   ],
   "source": [
    "mean_squared_error(y_test, pipe.predict(X_test))"
   ]
  },
  {
   "cell_type": "code",
   "execution_count": 57,
   "metadata": {},
   "outputs": [],
   "source": [
    "# Add a log value to the target variable\n",
    "ttr = TransformedTargetRegressor(regressor = pipe, func = np.log, inverse_func = np.exp)"
   ]
  },
  {
   "cell_type": "code",
   "execution_count": 58,
   "metadata": {},
   "outputs": [
    {
     "data": {
      "text/plain": [
       "TransformedTargetRegressor(func=<ufunc 'log'>, inverse_func=<ufunc 'exp'>,\n",
       "                           regressor=Pipeline(steps=[('transform',\n",
       "                                                      ColumnTransformer(remainder='passthrough',\n",
       "                                                                        transformers=[('yeo-johnson',\n",
       "                                                                                       PowerTransformer(),\n",
       "                                                                                       ['s',\n",
       "                                                                                        'tau',\n",
       "                                                                                        'Fss_1',\n",
       "                                                                                        'Fsv_1'])])),\n",
       "                                                     ('inreg',\n",
       "                                                      LinearRegression())]))"
      ]
     },
     "execution_count": 58,
     "metadata": {},
     "output_type": "execute_result"
    }
   ],
   "source": [
    "ttr.fit(X_train, y_train)"
   ]
  },
  {
   "cell_type": "code",
   "execution_count": 59,
   "metadata": {},
   "outputs": [
    {
     "data": {
      "text/plain": [
       "1.8354812563687244"
      ]
     },
     "execution_count": 59,
     "metadata": {},
     "output_type": "execute_result"
    }
   ],
   "source": [
    "np.sqrt(mean_squared_error(y_test, ttr.predict(X_test)))"
   ]
  },
  {
   "cell_type": "code",
   "execution_count": 60,
   "metadata": {},
   "outputs": [
    {
     "data": {
      "text/plain": [
       "3.368991442480911"
      ]
     },
     "execution_count": 60,
     "metadata": {},
     "output_type": "execute_result"
    }
   ],
   "source": [
    "mean_squared_error(y_test, ttr.predict(X_test))"
   ]
  },
  {
   "cell_type": "markdown",
   "metadata": {},
   "source": [
    "## Add Polynomial Transformations"
   ]
  },
  {
   "cell_type": "code",
   "execution_count": 61,
   "metadata": {},
   "outputs": [],
   "source": [
    "# How do we determine which columns to do a Polynomial transformation on??\n",
    "# How do we determine how many degrees for each column?"
   ]
  },
  {
   "cell_type": "code",
   "execution_count": 79,
   "metadata": {},
   "outputs": [],
   "source": [
    "# Perform the same ColumnTransformer as last time, but now adding Polynomial Features to all predictor variables.\n",
    "ct = ColumnTransformer(transformers = [\n",
    "    ('yeo-johnson', PowerTransformer(), train_skewed),\n",
    "    ('poly', PolynomialFeatures(\n",
    "        degree = 2, include_bias = False), train_poly)], remainder = 'passthrough')\n",
    "\n",
    "pipe = Pipeline(steps = [\n",
    "    ('transform', ct),\n",
    "    ('linear', LinearRegression())\n",
    "])"
   ]
  },
  {
   "cell_type": "code",
   "execution_count": 80,
   "metadata": {},
   "outputs": [
    {
     "data": {
      "text/plain": [
       "Pipeline(steps=[('transform',\n",
       "                 ColumnTransformer(remainder='passthrough',\n",
       "                                   transformers=[('yeo-johnson',\n",
       "                                                  PowerTransformer(),\n",
       "                                                  ['s', 'tau', 'Fss_1',\n",
       "                                                   'Fsv_1']),\n",
       "                                                 ('poly',\n",
       "                                                  PolynomialFeatures(include_bias=False),\n",
       "                                                  ['phi', 's', 'tau', 'Fss_1',\n",
       "                                                   'Fsv_1', 'Fvv_1'])])),\n",
       "                ('linear', LinearRegression())])"
      ]
     },
     "execution_count": 80,
     "metadata": {},
     "output_type": "execute_result"
    }
   ],
   "source": [
    "pipe.fit(X_train, y_train)"
   ]
  },
  {
   "cell_type": "code",
   "execution_count": 81,
   "metadata": {},
   "outputs": [
    {
     "data": {
      "text/plain": [
       "2.6947514147824507"
      ]
     },
     "execution_count": 81,
     "metadata": {},
     "output_type": "execute_result"
    }
   ],
   "source": [
    "np.sqrt(mean_squared_error(y_test, pipe.predict(X_test)))"
   ]
  },
  {
   "cell_type": "code",
   "execution_count": 82,
   "metadata": {},
   "outputs": [
    {
     "data": {
      "text/plain": [
       "1.3972550639398646"
      ]
     },
     "execution_count": 82,
     "metadata": {},
     "output_type": "execute_result"
    }
   ],
   "source": [
    "mean_squared_error(y_test, ttr.predict(X_test))"
   ]
  },
  {
   "cell_type": "code",
   "execution_count": 83,
   "metadata": {},
   "outputs": [],
   "source": [
    "ttr = TransformedTargetRegressor(regressor = pipe, func = np.log, inverse_func = np.exp)"
   ]
  },
  {
   "cell_type": "code",
   "execution_count": 84,
   "metadata": {},
   "outputs": [
    {
     "data": {
      "text/plain": [
       "TransformedTargetRegressor(func=<ufunc 'log'>, inverse_func=<ufunc 'exp'>,\n",
       "                           regressor=Pipeline(steps=[('transform',\n",
       "                                                      ColumnTransformer(remainder='passthrough',\n",
       "                                                                        transformers=[('yeo-johnson',\n",
       "                                                                                       PowerTransformer(),\n",
       "                                                                                       ['s',\n",
       "                                                                                        'tau',\n",
       "                                                                                        'Fss_1',\n",
       "                                                                                        'Fsv_1']),\n",
       "                                                                                      ('poly',\n",
       "                                                                                       PolynomialFeatures(include_bias=False),\n",
       "                                                                                       ['phi',\n",
       "                                                                                        's',\n",
       "                                                                                        'tau',\n",
       "                                                                                        'Fss_1',\n",
       "                                                                                        'Fsv_1',\n",
       "                                                                                        'Fvv_1'])])),\n",
       "                                                     ('linear',\n",
       "                                                      LinearRegression())]))"
      ]
     },
     "execution_count": 84,
     "metadata": {},
     "output_type": "execute_result"
    }
   ],
   "source": [
    "ttr.fit(X_train, y_train)"
   ]
  },
  {
   "cell_type": "code",
   "execution_count": 85,
   "metadata": {},
   "outputs": [
    {
     "data": {
      "text/plain": [
       "1.162549848221901"
      ]
     },
     "execution_count": 85,
     "metadata": {},
     "output_type": "execute_result"
    }
   ],
   "source": [
    "np.sqrt(mean_squared_error(y_test, ttr.predict(X_test)))"
   ]
  },
  {
   "cell_type": "code",
   "execution_count": 86,
   "metadata": {},
   "outputs": [
    {
     "data": {
      "text/plain": [
       "1.351522149600765"
      ]
     },
     "execution_count": 86,
     "metadata": {},
     "output_type": "execute_result"
    }
   ],
   "source": [
    "mean_squared_error(y_test, ttr.predict(X_test))"
   ]
  },
  {
   "cell_type": "code",
   "execution_count": 88,
   "metadata": {},
   "outputs": [],
   "source": [
    "#Create an \"X_test\" using the test data from kaggle\n",
    "X_test_final = test[['phi', 's', 'tau', 'Fss_1', 'Fsv_1', 'Fvv_1']]"
   ]
  },
  {
   "cell_type": "code",
   "execution_count": 90,
   "metadata": {},
   "outputs": [],
   "source": [
    "#Run the regression on this new X_test, assigning it to result\n",
    "result = ttr.predict(X_test_final)"
   ]
  },
  {
   "cell_type": "code",
   "execution_count": 91,
   "metadata": {},
   "outputs": [
    {
     "data": {
      "text/plain": [
       "array([41.50045764,  0.91702175,  5.42796411, ...,  3.94024604,\n",
       "        3.16254574,  0.08238435])"
      ]
     },
     "execution_count": 91,
     "metadata": {},
     "output_type": "execute_result"
    }
   ],
   "source": [
    "result"
   ]
  },
  {
   "cell_type": "code",
   "execution_count": 92,
   "metadata": {},
   "outputs": [
    {
     "data": {
      "text/plain": [
       "(5000,)"
      ]
     },
     "execution_count": 92,
     "metadata": {},
     "output_type": "execute_result"
    }
   ],
   "source": [
    "result.shape"
   ]
  },
  {
   "cell_type": "code",
   "execution_count": 93,
   "metadata": {},
   "outputs": [],
   "source": [
    "#Convert to DataFrame and (in following cells), format to match submission requirement\n",
    "result_df = pd.DataFrame(result)"
   ]
  },
  {
   "cell_type": "code",
   "execution_count": 94,
   "metadata": {},
   "outputs": [],
   "source": [
    "result_df = result_df.reset_index()"
   ]
  },
  {
   "cell_type": "code",
   "execution_count": 95,
   "metadata": {},
   "outputs": [],
   "source": [
    "result_df.columns = ['id', 'permeability']"
   ]
  },
  {
   "cell_type": "code",
   "execution_count": 96,
   "metadata": {},
   "outputs": [
    {
     "data": {
      "text/html": [
       "<div>\n",
       "<style scoped>\n",
       "    .dataframe tbody tr th:only-of-type {\n",
       "        vertical-align: middle;\n",
       "    }\n",
       "\n",
       "    .dataframe tbody tr th {\n",
       "        vertical-align: top;\n",
       "    }\n",
       "\n",
       "    .dataframe thead th {\n",
       "        text-align: right;\n",
       "    }\n",
       "</style>\n",
       "<table border=\"1\" class=\"dataframe\">\n",
       "  <thead>\n",
       "    <tr style=\"text-align: right;\">\n",
       "      <th></th>\n",
       "      <th>id</th>\n",
       "      <th>permeability</th>\n",
       "    </tr>\n",
       "  </thead>\n",
       "  <tbody>\n",
       "    <tr>\n",
       "      <th>0</th>\n",
       "      <td>0</td>\n",
       "      <td>41.500458</td>\n",
       "    </tr>\n",
       "    <tr>\n",
       "      <th>1</th>\n",
       "      <td>1</td>\n",
       "      <td>0.917022</td>\n",
       "    </tr>\n",
       "    <tr>\n",
       "      <th>2</th>\n",
       "      <td>2</td>\n",
       "      <td>5.427964</td>\n",
       "    </tr>\n",
       "    <tr>\n",
       "      <th>3</th>\n",
       "      <td>3</td>\n",
       "      <td>5.400764</td>\n",
       "    </tr>\n",
       "    <tr>\n",
       "      <th>4</th>\n",
       "      <td>4</td>\n",
       "      <td>4.393820</td>\n",
       "    </tr>\n",
       "    <tr>\n",
       "      <th>...</th>\n",
       "      <td>...</td>\n",
       "      <td>...</td>\n",
       "    </tr>\n",
       "    <tr>\n",
       "      <th>4995</th>\n",
       "      <td>4995</td>\n",
       "      <td>0.576879</td>\n",
       "    </tr>\n",
       "    <tr>\n",
       "      <th>4996</th>\n",
       "      <td>4996</td>\n",
       "      <td>1.497834</td>\n",
       "    </tr>\n",
       "    <tr>\n",
       "      <th>4997</th>\n",
       "      <td>4997</td>\n",
       "      <td>3.940246</td>\n",
       "    </tr>\n",
       "    <tr>\n",
       "      <th>4998</th>\n",
       "      <td>4998</td>\n",
       "      <td>3.162546</td>\n",
       "    </tr>\n",
       "    <tr>\n",
       "      <th>4999</th>\n",
       "      <td>4999</td>\n",
       "      <td>0.082384</td>\n",
       "    </tr>\n",
       "  </tbody>\n",
       "</table>\n",
       "<p>5000 rows × 2 columns</p>\n",
       "</div>"
      ],
      "text/plain": [
       "        id  permeability\n",
       "0        0     41.500458\n",
       "1        1      0.917022\n",
       "2        2      5.427964\n",
       "3        3      5.400764\n",
       "4        4      4.393820\n",
       "...    ...           ...\n",
       "4995  4995      0.576879\n",
       "4996  4996      1.497834\n",
       "4997  4997      3.940246\n",
       "4998  4998      3.162546\n",
       "4999  4999      0.082384\n",
       "\n",
       "[5000 rows x 2 columns]"
      ]
     },
     "execution_count": 96,
     "metadata": {},
     "output_type": "execute_result"
    }
   ],
   "source": [
    "result_df"
   ]
  },
  {
   "cell_type": "code",
   "execution_count": 97,
   "metadata": {},
   "outputs": [],
   "source": [
    "#Export, making sure to remove index\n",
    "result_df.to_csv('submission_parker_21_03_18.csv', index=False)"
   ]
  },
  {
   "cell_type": "code",
   "execution_count": null,
   "metadata": {},
   "outputs": [],
   "source": []
  },
  {
   "cell_type": "code",
   "execution_count": null,
   "metadata": {},
   "outputs": [],
   "source": []
  },
  {
   "cell_type": "code",
   "execution_count": null,
   "metadata": {},
   "outputs": [],
   "source": []
  },
  {
   "cell_type": "code",
   "execution_count": null,
   "metadata": {},
   "outputs": [],
   "source": []
  },
  {
   "cell_type": "code",
   "execution_count": null,
   "metadata": {},
   "outputs": [],
   "source": []
  },
  {
   "cell_type": "code",
   "execution_count": null,
   "metadata": {},
   "outputs": [],
   "source": []
  }
 ],
 "metadata": {
  "kernelspec": {
   "display_name": "Python 3",
   "language": "python",
   "name": "python3"
  },
  "language_info": {
   "codemirror_mode": {
    "name": "ipython",
    "version": 3
   },
   "file_extension": ".py",
   "mimetype": "text/x-python",
   "name": "python",
   "nbconvert_exporter": "python",
   "pygments_lexer": "ipython3",
   "version": "3.8.3"
  }
 },
 "nbformat": 4,
 "nbformat_minor": 4
}
