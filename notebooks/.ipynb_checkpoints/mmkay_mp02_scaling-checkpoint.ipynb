{
 "cells": [
  {
   "cell_type": "raw",
   "metadata": {},
   "source": [
    "!pip install scikit-learn==0.24.1"
   ]
  },
  {
   "cell_type": "markdown",
   "metadata": {},
   "source": [
    "# Intro to Multiple Linear Regression\n",
    "\n",
    "In this notebook, we'll be working with data on sales prices for homes in King County, Washington. This dataset was obtained from https://www.kaggle.com/harlfoxem/housesalesprediction."
   ]
  },
  {
   "cell_type": "code",
   "execution_count": 1,
   "metadata": {},
   "outputs": [],
   "source": [
    "import pandas as pd\n",
    "import numpy as np\n",
    "import seaborn as sns\n",
    "import matplotlib.pyplot as plt\n",
    "\n",
    "from sklearn.linear_model import LinearRegression\n",
    "from sklearn.model_selection import train_test_split\n",
    "from sklearn.metrics import mean_squared_error\n",
    "from sklearn.pipeline import Pipeline\n",
    "from sklearn.preprocessing import PolynomialFeatures, PowerTransformer, StandardScaler\n",
    "from sklearn.compose import ColumnTransformer, TransformedTargetRegressor"
   ]
  },
  {
   "cell_type": "code",
   "execution_count": 2,
   "metadata": {},
   "outputs": [],
   "source": [
    "train = pd.read_csv('../data/train.csv')"
   ]
  },
  {
   "cell_type": "code",
   "execution_count": 3,
   "metadata": {},
   "outputs": [],
   "source": [
    "test = pd.read_csv('../data/test.csv')"
   ]
  },
  {
   "cell_type": "code",
   "execution_count": 4,
   "metadata": {},
   "outputs": [
    {
     "data": {
      "text/html": [
       "<div>\n",
       "<style scoped>\n",
       "    .dataframe tbody tr th:only-of-type {\n",
       "        vertical-align: middle;\n",
       "    }\n",
       "\n",
       "    .dataframe tbody tr th {\n",
       "        vertical-align: top;\n",
       "    }\n",
       "\n",
       "    .dataframe thead th {\n",
       "        text-align: right;\n",
       "    }\n",
       "</style>\n",
       "<table border=\"1\" class=\"dataframe\">\n",
       "  <thead>\n",
       "    <tr style=\"text-align: right;\">\n",
       "      <th></th>\n",
       "      <th>permeability</th>\n",
       "      <th>phi</th>\n",
       "      <th>s</th>\n",
       "      <th>tau</th>\n",
       "      <th>Fss_1</th>\n",
       "      <th>Fss_2</th>\n",
       "      <th>Fss_3</th>\n",
       "      <th>Fss_4</th>\n",
       "      <th>Fss_5</th>\n",
       "      <th>Fss_6</th>\n",
       "      <th>...</th>\n",
       "      <th>Fvv_87</th>\n",
       "      <th>Fvv_88</th>\n",
       "      <th>Fvv_89</th>\n",
       "      <th>Fvv_90</th>\n",
       "      <th>Fvv_91</th>\n",
       "      <th>Fvv_92</th>\n",
       "      <th>Fvv_93</th>\n",
       "      <th>Fvv_94</th>\n",
       "      <th>Fvv_95</th>\n",
       "      <th>Fvv_96</th>\n",
       "    </tr>\n",
       "  </thead>\n",
       "  <tbody>\n",
       "    <tr>\n",
       "      <th>0</th>\n",
       "      <td>1.50168</td>\n",
       "      <td>0.348046</td>\n",
       "      <td>0.066175</td>\n",
       "      <td>1.076254</td>\n",
       "      <td>0.218608</td>\n",
       "      <td>0.016738</td>\n",
       "      <td>0.013973</td>\n",
       "      <td>0.010761</td>\n",
       "      <td>0.007845</td>\n",
       "      <td>0.006058</td>\n",
       "      <td>...</td>\n",
       "      <td>0.123109</td>\n",
       "      <td>0.123420</td>\n",
       "      <td>0.123285</td>\n",
       "      <td>0.124253</td>\n",
       "      <td>0.123834</td>\n",
       "      <td>0.124025</td>\n",
       "      <td>0.123978</td>\n",
       "      <td>0.123162</td>\n",
       "      <td>0.123861</td>\n",
       "      <td>0.123608</td>\n",
       "    </tr>\n",
       "    <tr>\n",
       "      <th>1</th>\n",
       "      <td>1.06523</td>\n",
       "      <td>0.372941</td>\n",
       "      <td>0.091209</td>\n",
       "      <td>1.066492</td>\n",
       "      <td>0.303711</td>\n",
       "      <td>0.022067</td>\n",
       "      <td>0.020279</td>\n",
       "      <td>0.015333</td>\n",
       "      <td>0.011599</td>\n",
       "      <td>0.010443</td>\n",
       "      <td>...</td>\n",
       "      <td>0.137641</td>\n",
       "      <td>0.138798</td>\n",
       "      <td>0.138436</td>\n",
       "      <td>0.139147</td>\n",
       "      <td>0.139919</td>\n",
       "      <td>0.139985</td>\n",
       "      <td>0.140295</td>\n",
       "      <td>0.139937</td>\n",
       "      <td>0.140854</td>\n",
       "      <td>0.141176</td>\n",
       "    </tr>\n",
       "    <tr>\n",
       "      <th>2</th>\n",
       "      <td>5.89208</td>\n",
       "      <td>0.543737</td>\n",
       "      <td>0.067494</td>\n",
       "      <td>1.044616</td>\n",
       "      <td>0.202395</td>\n",
       "      <td>0.013323</td>\n",
       "      <td>0.017857</td>\n",
       "      <td>0.010725</td>\n",
       "      <td>0.007723</td>\n",
       "      <td>0.007268</td>\n",
       "      <td>...</td>\n",
       "      <td>0.296769</td>\n",
       "      <td>0.296148</td>\n",
       "      <td>0.296531</td>\n",
       "      <td>0.295164</td>\n",
       "      <td>0.295948</td>\n",
       "      <td>0.295024</td>\n",
       "      <td>0.295062</td>\n",
       "      <td>0.294175</td>\n",
       "      <td>0.295345</td>\n",
       "      <td>0.294795</td>\n",
       "    </tr>\n",
       "    <tr>\n",
       "      <th>3</th>\n",
       "      <td>2.90822</td>\n",
       "      <td>0.348942</td>\n",
       "      <td>0.051625</td>\n",
       "      <td>1.079729</td>\n",
       "      <td>0.151966</td>\n",
       "      <td>0.006017</td>\n",
       "      <td>0.007843</td>\n",
       "      <td>0.009391</td>\n",
       "      <td>0.006032</td>\n",
       "      <td>0.005419</td>\n",
       "      <td>...</td>\n",
       "      <td>0.123245</td>\n",
       "      <td>0.122754</td>\n",
       "      <td>0.123450</td>\n",
       "      <td>0.122395</td>\n",
       "      <td>0.122467</td>\n",
       "      <td>0.122060</td>\n",
       "      <td>0.122641</td>\n",
       "      <td>0.122185</td>\n",
       "      <td>0.122437</td>\n",
       "      <td>0.122321</td>\n",
       "    </tr>\n",
       "    <tr>\n",
       "      <th>4</th>\n",
       "      <td>1.04910</td>\n",
       "      <td>0.359812</td>\n",
       "      <td>0.069486</td>\n",
       "      <td>1.139012</td>\n",
       "      <td>0.217286</td>\n",
       "      <td>0.011861</td>\n",
       "      <td>0.014697</td>\n",
       "      <td>0.009664</td>\n",
       "      <td>0.008409</td>\n",
       "      <td>0.006183</td>\n",
       "      <td>...</td>\n",
       "      <td>0.129377</td>\n",
       "      <td>0.129125</td>\n",
       "      <td>0.128754</td>\n",
       "      <td>0.128660</td>\n",
       "      <td>0.129041</td>\n",
       "      <td>0.128493</td>\n",
       "      <td>0.129539</td>\n",
       "      <td>0.129319</td>\n",
       "      <td>0.128960</td>\n",
       "      <td>0.128993</td>\n",
       "    </tr>\n",
       "  </tbody>\n",
       "</table>\n",
       "<p>5 rows × 292 columns</p>\n",
       "</div>"
      ],
      "text/plain": [
       "   permeability       phi         s       tau     Fss_1     Fss_2     Fss_3  \\\n",
       "0       1.50168  0.348046  0.066175  1.076254  0.218608  0.016738  0.013973   \n",
       "1       1.06523  0.372941  0.091209  1.066492  0.303711  0.022067  0.020279   \n",
       "2       5.89208  0.543737  0.067494  1.044616  0.202395  0.013323  0.017857   \n",
       "3       2.90822  0.348942  0.051625  1.079729  0.151966  0.006017  0.007843   \n",
       "4       1.04910  0.359812  0.069486  1.139012  0.217286  0.011861  0.014697   \n",
       "\n",
       "      Fss_4     Fss_5     Fss_6  ...    Fvv_87    Fvv_88    Fvv_89    Fvv_90  \\\n",
       "0  0.010761  0.007845  0.006058  ...  0.123109  0.123420  0.123285  0.124253   \n",
       "1  0.015333  0.011599  0.010443  ...  0.137641  0.138798  0.138436  0.139147   \n",
       "2  0.010725  0.007723  0.007268  ...  0.296769  0.296148  0.296531  0.295164   \n",
       "3  0.009391  0.006032  0.005419  ...  0.123245  0.122754  0.123450  0.122395   \n",
       "4  0.009664  0.008409  0.006183  ...  0.129377  0.129125  0.128754  0.128660   \n",
       "\n",
       "     Fvv_91    Fvv_92    Fvv_93    Fvv_94    Fvv_95    Fvv_96  \n",
       "0  0.123834  0.124025  0.123978  0.123162  0.123861  0.123608  \n",
       "1  0.139919  0.139985  0.140295  0.139937  0.140854  0.141176  \n",
       "2  0.295948  0.295024  0.295062  0.294175  0.295345  0.294795  \n",
       "3  0.122467  0.122060  0.122641  0.122185  0.122437  0.122321  \n",
       "4  0.129041  0.128493  0.129539  0.129319  0.128960  0.128993  \n",
       "\n",
       "[5 rows x 292 columns]"
      ]
     },
     "execution_count": 4,
     "metadata": {},
     "output_type": "execute_result"
    }
   ],
   "source": [
    "train.head()"
   ]
  },
  {
   "cell_type": "markdown",
   "metadata": {},
   "source": [
    "## Find columns with highest coefficients"
   ]
  },
  {
   "cell_type": "code",
   "execution_count": 5,
   "metadata": {},
   "outputs": [],
   "source": [
    "corrs = pd.DataFrame(train.corr()['permeability'][1:] ** 2)"
   ]
  },
  {
   "cell_type": "code",
   "execution_count": 6,
   "metadata": {},
   "outputs": [
    {
     "data": {
      "text/html": [
       "<div>\n",
       "<style scoped>\n",
       "    .dataframe tbody tr th:only-of-type {\n",
       "        vertical-align: middle;\n",
       "    }\n",
       "\n",
       "    .dataframe tbody tr th {\n",
       "        vertical-align: top;\n",
       "    }\n",
       "\n",
       "    .dataframe thead th {\n",
       "        text-align: right;\n",
       "    }\n",
       "</style>\n",
       "<table border=\"1\" class=\"dataframe\">\n",
       "  <thead>\n",
       "    <tr style=\"text-align: right;\">\n",
       "      <th></th>\n",
       "      <th>permeability</th>\n",
       "    </tr>\n",
       "  </thead>\n",
       "  <tbody>\n",
       "    <tr>\n",
       "      <th>phi</th>\n",
       "      <td>0.248081</td>\n",
       "    </tr>\n",
       "    <tr>\n",
       "      <th>s</th>\n",
       "      <td>0.243645</td>\n",
       "    </tr>\n",
       "    <tr>\n",
       "      <th>tau</th>\n",
       "      <td>0.208658</td>\n",
       "    </tr>\n",
       "    <tr>\n",
       "      <th>Fss_1</th>\n",
       "      <td>0.164430</td>\n",
       "    </tr>\n",
       "    <tr>\n",
       "      <th>Fss_2</th>\n",
       "      <td>0.142624</td>\n",
       "    </tr>\n",
       "    <tr>\n",
       "      <th>...</th>\n",
       "      <td>...</td>\n",
       "    </tr>\n",
       "    <tr>\n",
       "      <th>Fvv_92</th>\n",
       "      <td>0.262242</td>\n",
       "    </tr>\n",
       "    <tr>\n",
       "      <th>Fvv_93</th>\n",
       "      <td>0.262159</td>\n",
       "    </tr>\n",
       "    <tr>\n",
       "      <th>Fvv_94</th>\n",
       "      <td>0.262023</td>\n",
       "    </tr>\n",
       "    <tr>\n",
       "      <th>Fvv_95</th>\n",
       "      <td>0.261848</td>\n",
       "    </tr>\n",
       "    <tr>\n",
       "      <th>Fvv_96</th>\n",
       "      <td>0.261779</td>\n",
       "    </tr>\n",
       "  </tbody>\n",
       "</table>\n",
       "<p>291 rows × 1 columns</p>\n",
       "</div>"
      ],
      "text/plain": [
       "        permeability\n",
       "phi         0.248081\n",
       "s           0.243645\n",
       "tau         0.208658\n",
       "Fss_1       0.164430\n",
       "Fss_2       0.142624\n",
       "...              ...\n",
       "Fvv_92      0.262242\n",
       "Fvv_93      0.262159\n",
       "Fvv_94      0.262023\n",
       "Fvv_95      0.261848\n",
       "Fvv_96      0.261779\n",
       "\n",
       "[291 rows x 1 columns]"
      ]
     },
     "execution_count": 6,
     "metadata": {},
     "output_type": "execute_result"
    }
   ],
   "source": [
    "corrs"
   ]
  },
  {
   "cell_type": "code",
   "execution_count": 7,
   "metadata": {},
   "outputs": [],
   "source": [
    "Fss_rows = corrs[corrs.index.str.contains('Fss')]"
   ]
  },
  {
   "cell_type": "code",
   "execution_count": 8,
   "metadata": {},
   "outputs": [
    {
     "data": {
      "text/html": [
       "<div>\n",
       "<style scoped>\n",
       "    .dataframe tbody tr th:only-of-type {\n",
       "        vertical-align: middle;\n",
       "    }\n",
       "\n",
       "    .dataframe tbody tr th {\n",
       "        vertical-align: top;\n",
       "    }\n",
       "\n",
       "    .dataframe thead th {\n",
       "        text-align: right;\n",
       "    }\n",
       "</style>\n",
       "<table border=\"1\" class=\"dataframe\">\n",
       "  <thead>\n",
       "    <tr style=\"text-align: right;\">\n",
       "      <th></th>\n",
       "      <th>permeability</th>\n",
       "    </tr>\n",
       "  </thead>\n",
       "  <tbody>\n",
       "    <tr>\n",
       "      <th>Fss_3</th>\n",
       "      <td>0.172427</td>\n",
       "    </tr>\n",
       "    <tr>\n",
       "      <th>Fss_4</th>\n",
       "      <td>0.166726</td>\n",
       "    </tr>\n",
       "    <tr>\n",
       "      <th>Fss_1</th>\n",
       "      <td>0.164430</td>\n",
       "    </tr>\n",
       "    <tr>\n",
       "      <th>Fss_5</th>\n",
       "      <td>0.151400</td>\n",
       "    </tr>\n",
       "    <tr>\n",
       "      <th>Fss_95</th>\n",
       "      <td>0.145588</td>\n",
       "    </tr>\n",
       "    <tr>\n",
       "      <th>Fss_86</th>\n",
       "      <td>0.145514</td>\n",
       "    </tr>\n",
       "    <tr>\n",
       "      <th>Fss_96</th>\n",
       "      <td>0.145481</td>\n",
       "    </tr>\n",
       "    <tr>\n",
       "      <th>Fss_88</th>\n",
       "      <td>0.145470</td>\n",
       "    </tr>\n",
       "    <tr>\n",
       "      <th>Fss_90</th>\n",
       "      <td>0.145470</td>\n",
       "    </tr>\n",
       "    <tr>\n",
       "      <th>Fss_83</th>\n",
       "      <td>0.145444</td>\n",
       "    </tr>\n",
       "    <tr>\n",
       "      <th>Fss_82</th>\n",
       "      <td>0.145430</td>\n",
       "    </tr>\n",
       "    <tr>\n",
       "      <th>Fss_89</th>\n",
       "      <td>0.145405</td>\n",
       "    </tr>\n",
       "    <tr>\n",
       "      <th>Fss_79</th>\n",
       "      <td>0.145402</td>\n",
       "    </tr>\n",
       "    <tr>\n",
       "      <th>Fss_73</th>\n",
       "      <td>0.145399</td>\n",
       "    </tr>\n",
       "    <tr>\n",
       "      <th>Fss_92</th>\n",
       "      <td>0.145396</td>\n",
       "    </tr>\n",
       "    <tr>\n",
       "      <th>Fss_85</th>\n",
       "      <td>0.145396</td>\n",
       "    </tr>\n",
       "    <tr>\n",
       "      <th>Fss_94</th>\n",
       "      <td>0.145393</td>\n",
       "    </tr>\n",
       "    <tr>\n",
       "      <th>Fss_93</th>\n",
       "      <td>0.145390</td>\n",
       "    </tr>\n",
       "    <tr>\n",
       "      <th>Fss_45</th>\n",
       "      <td>0.145383</td>\n",
       "    </tr>\n",
       "    <tr>\n",
       "      <th>Fss_91</th>\n",
       "      <td>0.145380</td>\n",
       "    </tr>\n",
       "  </tbody>\n",
       "</table>\n",
       "</div>"
      ],
      "text/plain": [
       "        permeability\n",
       "Fss_3       0.172427\n",
       "Fss_4       0.166726\n",
       "Fss_1       0.164430\n",
       "Fss_5       0.151400\n",
       "Fss_95      0.145588\n",
       "Fss_86      0.145514\n",
       "Fss_96      0.145481\n",
       "Fss_88      0.145470\n",
       "Fss_90      0.145470\n",
       "Fss_83      0.145444\n",
       "Fss_82      0.145430\n",
       "Fss_89      0.145405\n",
       "Fss_79      0.145402\n",
       "Fss_73      0.145399\n",
       "Fss_92      0.145396\n",
       "Fss_85      0.145396\n",
       "Fss_94      0.145393\n",
       "Fss_93      0.145390\n",
       "Fss_45      0.145383\n",
       "Fss_91      0.145380"
      ]
     },
     "execution_count": 8,
     "metadata": {},
     "output_type": "execute_result"
    }
   ],
   "source": [
    "Fss_rows = Fss_rows.sort_values('permeability', ascending=False).head(20)\n",
    "Fss_rows"
   ]
  },
  {
   "cell_type": "code",
   "execution_count": 9,
   "metadata": {},
   "outputs": [
    {
     "data": {
      "text/plain": [
       "['Fss_3',\n",
       " 'Fss_4',\n",
       " 'Fss_1',\n",
       " 'Fss_5',\n",
       " 'Fss_95',\n",
       " 'Fss_86',\n",
       " 'Fss_96',\n",
       " 'Fss_88',\n",
       " 'Fss_90',\n",
       " 'Fss_83',\n",
       " 'Fss_82',\n",
       " 'Fss_89',\n",
       " 'Fss_79',\n",
       " 'Fss_73',\n",
       " 'Fss_92',\n",
       " 'Fss_85',\n",
       " 'Fss_94',\n",
       " 'Fss_93',\n",
       " 'Fss_45',\n",
       " 'Fss_91']"
      ]
     },
     "execution_count": 9,
     "metadata": {},
     "output_type": "execute_result"
    }
   ],
   "source": [
    "Fss_rows = Fss_rows.index.to_list()\n",
    "Fss_rows"
   ]
  },
  {
   "cell_type": "code",
   "execution_count": 10,
   "metadata": {},
   "outputs": [],
   "source": [
    "Fsv_rows = corrs[corrs.index.str.contains('Fsv')]\n",
    "Fsv_rows = Fsv_rows.sort_values('permeability', ascending=False).head(20)\n",
    "Fsv_rows = Fsv_rows.index.to_list()"
   ]
  },
  {
   "cell_type": "code",
   "execution_count": 11,
   "metadata": {},
   "outputs": [],
   "source": [
    "Fvv_rows = corrs[corrs.index.str.contains('Fvv')]\n",
    "Fvv_rows = Fvv_rows.sort_values('permeability', ascending=False).head(20)\n",
    "Fvv_rows = Fvv_rows.index.to_list()"
   ]
  },
  {
   "cell_type": "markdown",
   "metadata": {},
   "source": [
    "## Create smaller dataframe with only the desired variables\n",
    "#### This is not an intelligent approach...it will be replaced with Lasso eventually."
   ]
  },
  {
   "cell_type": "code",
   "execution_count": 12,
   "metadata": {},
   "outputs": [],
   "source": [
    "train_columns = ['permeability', 'phi', 's', 'tau'] + Fss_rows + Fsv_rows + Fvv_rows\n",
    "train_columns_X = ['phi', 's', 'tau'] + Fss_rows + Fsv_rows + Fvv_rows"
   ]
  },
  {
   "cell_type": "code",
   "execution_count": 13,
   "metadata": {},
   "outputs": [],
   "source": [
    "train_easy = train[train_columns]"
   ]
  },
  {
   "cell_type": "code",
   "execution_count": 14,
   "metadata": {},
   "outputs": [
    {
     "data": {
      "text/html": [
       "<div>\n",
       "<style scoped>\n",
       "    .dataframe tbody tr th:only-of-type {\n",
       "        vertical-align: middle;\n",
       "    }\n",
       "\n",
       "    .dataframe tbody tr th {\n",
       "        vertical-align: top;\n",
       "    }\n",
       "\n",
       "    .dataframe thead th {\n",
       "        text-align: right;\n",
       "    }\n",
       "</style>\n",
       "<table border=\"1\" class=\"dataframe\">\n",
       "  <thead>\n",
       "    <tr style=\"text-align: right;\">\n",
       "      <th></th>\n",
       "      <th>permeability</th>\n",
       "      <th>phi</th>\n",
       "      <th>s</th>\n",
       "      <th>tau</th>\n",
       "      <th>Fss_3</th>\n",
       "      <th>Fss_4</th>\n",
       "      <th>Fss_1</th>\n",
       "      <th>Fss_5</th>\n",
       "      <th>Fss_95</th>\n",
       "      <th>Fss_86</th>\n",
       "      <th>...</th>\n",
       "      <th>Fvv_7</th>\n",
       "      <th>Fvv_18</th>\n",
       "      <th>Fvv_6</th>\n",
       "      <th>Fvv_19</th>\n",
       "      <th>Fvv_20</th>\n",
       "      <th>Fvv_5</th>\n",
       "      <th>Fvv_21</th>\n",
       "      <th>Fvv_22</th>\n",
       "      <th>Fvv_4</th>\n",
       "      <th>Fvv_23</th>\n",
       "    </tr>\n",
       "  </thead>\n",
       "  <tbody>\n",
       "    <tr>\n",
       "      <th>0</th>\n",
       "      <td>1.50168</td>\n",
       "      <td>0.348046</td>\n",
       "      <td>0.066175</td>\n",
       "      <td>1.076254</td>\n",
       "      <td>0.013973</td>\n",
       "      <td>0.010761</td>\n",
       "      <td>0.218608</td>\n",
       "      <td>0.007845</td>\n",
       "      <td>0.004582</td>\n",
       "      <td>0.004467</td>\n",
       "      <td>...</td>\n",
       "      <td>0.244991</td>\n",
       "      <td>0.136362</td>\n",
       "      <td>0.260208</td>\n",
       "      <td>0.131388</td>\n",
       "      <td>0.126601</td>\n",
       "      <td>0.274696</td>\n",
       "      <td>0.122591</td>\n",
       "      <td>0.119673</td>\n",
       "      <td>0.290951</td>\n",
       "      <td>0.117293</td>\n",
       "    </tr>\n",
       "    <tr>\n",
       "      <th>1</th>\n",
       "      <td>1.06523</td>\n",
       "      <td>0.372941</td>\n",
       "      <td>0.091209</td>\n",
       "      <td>1.066492</td>\n",
       "      <td>0.020279</td>\n",
       "      <td>0.015333</td>\n",
       "      <td>0.303711</td>\n",
       "      <td>0.011599</td>\n",
       "      <td>0.007851</td>\n",
       "      <td>0.008270</td>\n",
       "      <td>...</td>\n",
       "      <td>0.236961</td>\n",
       "      <td>0.129262</td>\n",
       "      <td>0.254868</td>\n",
       "      <td>0.126844</td>\n",
       "      <td>0.125470</td>\n",
       "      <td>0.274845</td>\n",
       "      <td>0.124586</td>\n",
       "      <td>0.124901</td>\n",
       "      <td>0.295869</td>\n",
       "      <td>0.124567</td>\n",
       "    </tr>\n",
       "    <tr>\n",
       "      <th>2</th>\n",
       "      <td>5.89208</td>\n",
       "      <td>0.543737</td>\n",
       "      <td>0.067494</td>\n",
       "      <td>1.044616</td>\n",
       "      <td>0.017857</td>\n",
       "      <td>0.010725</td>\n",
       "      <td>0.202395</td>\n",
       "      <td>0.007723</td>\n",
       "      <td>0.004290</td>\n",
       "      <td>0.004526</td>\n",
       "      <td>...</td>\n",
       "      <td>0.436792</td>\n",
       "      <td>0.311829</td>\n",
       "      <td>0.452433</td>\n",
       "      <td>0.305588</td>\n",
       "      <td>0.299631</td>\n",
       "      <td>0.468244</td>\n",
       "      <td>0.295003</td>\n",
       "      <td>0.289764</td>\n",
       "      <td>0.484594</td>\n",
       "      <td>0.286323</td>\n",
       "    </tr>\n",
       "    <tr>\n",
       "      <th>3</th>\n",
       "      <td>2.90822</td>\n",
       "      <td>0.348942</td>\n",
       "      <td>0.051625</td>\n",
       "      <td>1.079729</td>\n",
       "      <td>0.007843</td>\n",
       "      <td>0.009391</td>\n",
       "      <td>0.151966</td>\n",
       "      <td>0.006032</td>\n",
       "      <td>0.002575</td>\n",
       "      <td>0.002827</td>\n",
       "      <td>...</td>\n",
       "      <td>0.266265</td>\n",
       "      <td>0.165364</td>\n",
       "      <td>0.278829</td>\n",
       "      <td>0.159048</td>\n",
       "      <td>0.153700</td>\n",
       "      <td>0.290655</td>\n",
       "      <td>0.148284</td>\n",
       "      <td>0.143463</td>\n",
       "      <td>0.303257</td>\n",
       "      <td>0.139164</td>\n",
       "    </tr>\n",
       "    <tr>\n",
       "      <th>4</th>\n",
       "      <td>1.04910</td>\n",
       "      <td>0.359812</td>\n",
       "      <td>0.069486</td>\n",
       "      <td>1.139012</td>\n",
       "      <td>0.014697</td>\n",
       "      <td>0.009664</td>\n",
       "      <td>0.217286</td>\n",
       "      <td>0.008409</td>\n",
       "      <td>0.004713</td>\n",
       "      <td>0.004604</td>\n",
       "      <td>...</td>\n",
       "      <td>0.250218</td>\n",
       "      <td>0.121196</td>\n",
       "      <td>0.266567</td>\n",
       "      <td>0.115799</td>\n",
       "      <td>0.111502</td>\n",
       "      <td>0.282751</td>\n",
       "      <td>0.108594</td>\n",
       "      <td>0.107502</td>\n",
       "      <td>0.298948</td>\n",
       "      <td>0.106044</td>\n",
       "    </tr>\n",
       "  </tbody>\n",
       "</table>\n",
       "<p>5 rows × 64 columns</p>\n",
       "</div>"
      ],
      "text/plain": [
       "   permeability       phi         s       tau     Fss_3     Fss_4     Fss_1  \\\n",
       "0       1.50168  0.348046  0.066175  1.076254  0.013973  0.010761  0.218608   \n",
       "1       1.06523  0.372941  0.091209  1.066492  0.020279  0.015333  0.303711   \n",
       "2       5.89208  0.543737  0.067494  1.044616  0.017857  0.010725  0.202395   \n",
       "3       2.90822  0.348942  0.051625  1.079729  0.007843  0.009391  0.151966   \n",
       "4       1.04910  0.359812  0.069486  1.139012  0.014697  0.009664  0.217286   \n",
       "\n",
       "      Fss_5    Fss_95    Fss_86  ...     Fvv_7    Fvv_18     Fvv_6    Fvv_19  \\\n",
       "0  0.007845  0.004582  0.004467  ...  0.244991  0.136362  0.260208  0.131388   \n",
       "1  0.011599  0.007851  0.008270  ...  0.236961  0.129262  0.254868  0.126844   \n",
       "2  0.007723  0.004290  0.004526  ...  0.436792  0.311829  0.452433  0.305588   \n",
       "3  0.006032  0.002575  0.002827  ...  0.266265  0.165364  0.278829  0.159048   \n",
       "4  0.008409  0.004713  0.004604  ...  0.250218  0.121196  0.266567  0.115799   \n",
       "\n",
       "     Fvv_20     Fvv_5    Fvv_21    Fvv_22     Fvv_4    Fvv_23  \n",
       "0  0.126601  0.274696  0.122591  0.119673  0.290951  0.117293  \n",
       "1  0.125470  0.274845  0.124586  0.124901  0.295869  0.124567  \n",
       "2  0.299631  0.468244  0.295003  0.289764  0.484594  0.286323  \n",
       "3  0.153700  0.290655  0.148284  0.143463  0.303257  0.139164  \n",
       "4  0.111502  0.282751  0.108594  0.107502  0.298948  0.106044  \n",
       "\n",
       "[5 rows x 64 columns]"
      ]
     },
     "execution_count": 14,
     "metadata": {},
     "output_type": "execute_result"
    }
   ],
   "source": [
    "train_easy.head()"
   ]
  },
  {
   "cell_type": "code",
   "execution_count": null,
   "metadata": {},
   "outputs": [],
   "source": []
  },
  {
   "cell_type": "markdown",
   "metadata": {},
   "source": [
    "## Create Training/Test Sets and Column Lists for Transformations"
   ]
  },
  {
   "cell_type": "code",
   "execution_count": 15,
   "metadata": {},
   "outputs": [],
   "source": [
    "X = train_easy.drop('permeability', axis=1)\n",
    "y = train_easy['permeability']"
   ]
  },
  {
   "cell_type": "code",
   "execution_count": 16,
   "metadata": {},
   "outputs": [],
   "source": [
    "X_train, X_test, y_train, y_test = train_test_split(X, y, test_size=0.25, random_state = 21)"
   ]
  },
  {
   "cell_type": "code",
   "execution_count": 17,
   "metadata": {},
   "outputs": [],
   "source": [
    "# Create list of columns that are skewed (we'll later run this through a yeo-johnson Power Transformer)\n",
    "train_skewed = pd.DataFrame(train_easy.drop('permeability', axis=1).skew())\n",
    "train_skewed.columns = ['skew']"
   ]
  },
  {
   "cell_type": "code",
   "execution_count": 18,
   "metadata": {},
   "outputs": [
    {
     "data": {
      "text/html": [
       "<div>\n",
       "<style scoped>\n",
       "    .dataframe tbody tr th:only-of-type {\n",
       "        vertical-align: middle;\n",
       "    }\n",
       "\n",
       "    .dataframe tbody tr th {\n",
       "        vertical-align: top;\n",
       "    }\n",
       "\n",
       "    .dataframe thead th {\n",
       "        text-align: right;\n",
       "    }\n",
       "</style>\n",
       "<table border=\"1\" class=\"dataframe\">\n",
       "  <thead>\n",
       "    <tr style=\"text-align: right;\">\n",
       "      <th></th>\n",
       "      <th>skew</th>\n",
       "    </tr>\n",
       "  </thead>\n",
       "  <tbody>\n",
       "    <tr>\n",
       "      <th>phi</th>\n",
       "      <td>0.014769</td>\n",
       "    </tr>\n",
       "    <tr>\n",
       "      <th>s</th>\n",
       "      <td>1.185875</td>\n",
       "    </tr>\n",
       "    <tr>\n",
       "      <th>tau</th>\n",
       "      <td>1.054007</td>\n",
       "    </tr>\n",
       "    <tr>\n",
       "      <th>Fss_3</th>\n",
       "      <td>1.882528</td>\n",
       "    </tr>\n",
       "    <tr>\n",
       "      <th>Fss_4</th>\n",
       "      <td>2.042620</td>\n",
       "    </tr>\n",
       "    <tr>\n",
       "      <th>...</th>\n",
       "      <td>...</td>\n",
       "    </tr>\n",
       "    <tr>\n",
       "      <th>Fvv_5</th>\n",
       "      <td>0.062866</td>\n",
       "    </tr>\n",
       "    <tr>\n",
       "      <th>Fvv_21</th>\n",
       "      <td>0.272125</td>\n",
       "    </tr>\n",
       "    <tr>\n",
       "      <th>Fvv_22</th>\n",
       "      <td>0.275241</td>\n",
       "    </tr>\n",
       "    <tr>\n",
       "      <th>Fvv_4</th>\n",
       "      <td>0.054720</td>\n",
       "    </tr>\n",
       "    <tr>\n",
       "      <th>Fvv_23</th>\n",
       "      <td>0.277586</td>\n",
       "    </tr>\n",
       "  </tbody>\n",
       "</table>\n",
       "<p>63 rows × 1 columns</p>\n",
       "</div>"
      ],
      "text/plain": [
       "            skew\n",
       "phi     0.014769\n",
       "s       1.185875\n",
       "tau     1.054007\n",
       "Fss_3   1.882528\n",
       "Fss_4   2.042620\n",
       "...          ...\n",
       "Fvv_5   0.062866\n",
       "Fvv_21  0.272125\n",
       "Fvv_22  0.275241\n",
       "Fvv_4   0.054720\n",
       "Fvv_23  0.277586\n",
       "\n",
       "[63 rows x 1 columns]"
      ]
     },
     "execution_count": 18,
     "metadata": {},
     "output_type": "execute_result"
    }
   ],
   "source": [
    "train_skewed"
   ]
  },
  {
   "cell_type": "code",
   "execution_count": 19,
   "metadata": {},
   "outputs": [
    {
     "data": {
      "text/plain": [
       "0.014768806876057179"
      ]
     },
     "execution_count": 19,
     "metadata": {},
     "output_type": "execute_result"
    }
   ],
   "source": [
    "min(train_skewed['skew'])"
   ]
  },
  {
   "cell_type": "code",
   "execution_count": 20,
   "metadata": {},
   "outputs": [],
   "source": [
    "train_skewed = train_skewed[(train_skewed['skew'] > .5) | (train_skewed['skew'] < -0.5)]"
   ]
  },
  {
   "cell_type": "code",
   "execution_count": 21,
   "metadata": {},
   "outputs": [],
   "source": [
    "train_skewed = list(train_skewed.index.values)"
   ]
  },
  {
   "cell_type": "code",
   "execution_count": 22,
   "metadata": {},
   "outputs": [],
   "source": [
    "# Create list of all columns (we'll later run this through a Polynomial Features)\n",
    "train_poly = pd.DataFrame(train_easy.drop('permeability', axis=1))"
   ]
  },
  {
   "cell_type": "code",
   "execution_count": 23,
   "metadata": {},
   "outputs": [],
   "source": [
    "train_poly = list(train_poly.columns)"
   ]
  },
  {
   "cell_type": "markdown",
   "metadata": {},
   "source": [
    "## Begin Creating Regression"
   ]
  },
  {
   "cell_type": "code",
   "execution_count": 24,
   "metadata": {},
   "outputs": [],
   "source": [
    "# How do we determine which columns to do a Polynomial transformation on??\n",
    "# How do we determine how many degrees for each column?"
   ]
  },
  {
   "cell_type": "code",
   "execution_count": 25,
   "metadata": {},
   "outputs": [],
   "source": [
    "# Perform the same ColumnTransformer as last time, but now adding Polynomial Features to all predictor variables.\n",
    "ct = ColumnTransformer(transformers = [\n",
    "    ('yeo-johnson', PowerTransformer(), train_skewed),\n",
    "    ('poly', PolynomialFeatures(\n",
    "        degree = 2, include_bias = False), train_poly)], remainder = 'passthrough')\n",
    "\n",
    "pipe = Pipeline(steps = [\n",
    "    ('transform', ct),\n",
    "    ('scaler', StandardScaler()),\n",
    "    ('linear', LinearRegression())\n",
    "])"
   ]
  },
  {
   "cell_type": "code",
   "execution_count": 26,
   "metadata": {},
   "outputs": [
    {
     "data": {
      "text/plain": [
       "Pipeline(steps=[('transform',\n",
       "                 ColumnTransformer(remainder='passthrough',\n",
       "                                   transformers=[('yeo-johnson',\n",
       "                                                  PowerTransformer(),\n",
       "                                                  ['s', 'tau', 'Fss_3', 'Fss_4',\n",
       "                                                   'Fss_1', 'Fss_5', 'Fss_95',\n",
       "                                                   'Fss_86', 'Fss_96', 'Fss_88',\n",
       "                                                   'Fss_90', 'Fss_83', 'Fss_82',\n",
       "                                                   'Fss_89', 'Fss_79', 'Fss_73',\n",
       "                                                   'Fss_92', 'Fss_85', 'Fss_94',\n",
       "                                                   'Fss_93', 'Fss_45', 'Fss_91',\n",
       "                                                   'Fsv_1', 'Fsv_2', 'Fsv_3',\n",
       "                                                   'Fsv_4', 'Fsv_5', 'Fsv...\n",
       "                                                  PolynomialFeatures(include_bias=False),\n",
       "                                                  ['phi', 's', 'tau', 'Fss_3',\n",
       "                                                   'Fss_4', 'Fss_1', 'Fss_5',\n",
       "                                                   'Fss_95', 'Fss_86', 'Fss_96',\n",
       "                                                   'Fss_88', 'Fss_90', 'Fss_83',\n",
       "                                                   'Fss_82', 'Fss_89', 'Fss_79',\n",
       "                                                   'Fss_73', 'Fss_92', 'Fss_85',\n",
       "                                                   'Fss_94', 'Fss_93', 'Fss_45',\n",
       "                                                   'Fss_91', 'Fsv_1', 'Fsv_2',\n",
       "                                                   'Fsv_3', 'Fsv_4', 'Fsv_5',\n",
       "                                                   'Fsv_6', 'Fsv_7', ...])])),\n",
       "                ('scaler', StandardScaler()), ('linear', LinearRegression())])"
      ]
     },
     "execution_count": 26,
     "metadata": {},
     "output_type": "execute_result"
    }
   ],
   "source": [
    "pipe.fit(X_train, y_train)"
   ]
  },
  {
   "cell_type": "code",
   "execution_count": 27,
   "metadata": {},
   "outputs": [
    {
     "data": {
      "text/plain": [
       "1.1838330068099225"
      ]
     },
     "execution_count": 27,
     "metadata": {},
     "output_type": "execute_result"
    }
   ],
   "source": [
    "np.sqrt(mean_squared_error(y_test, pipe.predict(X_test)))"
   ]
  },
  {
   "cell_type": "code",
   "execution_count": 28,
   "metadata": {},
   "outputs": [
    {
     "data": {
      "text/plain": [
       "1.401460588012622"
      ]
     },
     "execution_count": 28,
     "metadata": {},
     "output_type": "execute_result"
    }
   ],
   "source": [
    "mean_squared_error(y_test, pipe.predict(X_test))"
   ]
  },
  {
   "cell_type": "code",
   "execution_count": 29,
   "metadata": {},
   "outputs": [],
   "source": [
    "ttr = TransformedTargetRegressor(regressor = pipe, func = np.log, inverse_func = np.exp)"
   ]
  },
  {
   "cell_type": "code",
   "execution_count": 30,
   "metadata": {},
   "outputs": [
    {
     "data": {
      "text/plain": [
       "TransformedTargetRegressor(func=<ufunc 'log'>, inverse_func=<ufunc 'exp'>,\n",
       "                           regressor=Pipeline(steps=[('transform',\n",
       "                                                      ColumnTransformer(remainder='passthrough',\n",
       "                                                                        transformers=[('yeo-johnson',\n",
       "                                                                                       PowerTransformer(),\n",
       "                                                                                       ['s',\n",
       "                                                                                        'tau',\n",
       "                                                                                        'Fss_3',\n",
       "                                                                                        'Fss_4',\n",
       "                                                                                        'Fss_1',\n",
       "                                                                                        'Fss_5',\n",
       "                                                                                        'Fss_95',\n",
       "                                                                                        'Fss_86',\n",
       "                                                                                        'Fss_96',\n",
       "                                                                                        'Fss_88',\n",
       "                                                                                        'Fss_90',\n",
       "                                                                                        'Fss_83',\n",
       "                                                                                        'Fss_82',\n",
       "                                                                                        'Fss_89',\n",
       "                                                                                        'Fss_79',\n",
       "                                                                                        'Fss_73',\n",
       "                                                                                        'Fss_92',\n",
       "                                                                                        'Fss_85'...\n",
       "                                                                                       PolynomialFeatures(include_bias=False),\n",
       "                                                                                       ['phi',\n",
       "                                                                                        's',\n",
       "                                                                                        'tau',\n",
       "                                                                                        'Fss_3',\n",
       "                                                                                        'Fss_4',\n",
       "                                                                                        'Fss_1',\n",
       "                                                                                        'Fss_5',\n",
       "                                                                                        'Fss_95',\n",
       "                                                                                        'Fss_86',\n",
       "                                                                                        'Fss_96',\n",
       "                                                                                        'Fss_88',\n",
       "                                                                                        'Fss_90',\n",
       "                                                                                        'Fss_83',\n",
       "                                                                                        'Fss_82',\n",
       "                                                                                        'Fss_89',\n",
       "                                                                                        'Fss_79',\n",
       "                                                                                        'Fss_73',\n",
       "                                                                                        'Fss_92',\n",
       "                                                                                        'Fss_85',\n",
       "                                                                                        'Fss_94',\n",
       "                                                                                        'Fss_93',\n",
       "                                                                                        'Fss_45',\n",
       "                                                                                        'Fss_91',\n",
       "                                                                                        'Fsv_1',\n",
       "                                                                                        'Fsv_2',\n",
       "                                                                                        'Fsv_3',\n",
       "                                                                                        'Fsv_4',\n",
       "                                                                                        'Fsv_5',\n",
       "                                                                                        'Fsv_6',\n",
       "                                                                                        'Fsv_7', ...])])),\n",
       "                                                     ('scaler',\n",
       "                                                      StandardScaler()),\n",
       "                                                     ('linear',\n",
       "                                                      LinearRegression())]))"
      ]
     },
     "execution_count": 30,
     "metadata": {},
     "output_type": "execute_result"
    }
   ],
   "source": [
    "ttr.fit(X_train, y_train)"
   ]
  },
  {
   "cell_type": "code",
   "execution_count": 31,
   "metadata": {},
   "outputs": [
    {
     "data": {
      "text/plain": [
       "0.9270834481352397"
      ]
     },
     "execution_count": 31,
     "metadata": {},
     "output_type": "execute_result"
    }
   ],
   "source": [
    "np.sqrt(mean_squared_error(y_test, ttr.predict(X_test)))"
   ]
  },
  {
   "cell_type": "code",
   "execution_count": 32,
   "metadata": {},
   "outputs": [
    {
     "data": {
      "text/plain": [
       "0.8594837198063257"
      ]
     },
     "execution_count": 32,
     "metadata": {},
     "output_type": "execute_result"
    }
   ],
   "source": [
    "mean_squared_error(y_test, ttr.predict(X_test))"
   ]
  },
  {
   "cell_type": "code",
   "execution_count": 33,
   "metadata": {},
   "outputs": [],
   "source": [
    "#Create an \"X_test\" using the test data from kaggle\n",
    "X_test_final = test[train_columns_X]"
   ]
  },
  {
   "cell_type": "code",
   "execution_count": 34,
   "metadata": {},
   "outputs": [],
   "source": [
    "#Run the regression on this new X_test, assigning it to result\n",
    "result = ttr.predict(X_test_final)"
   ]
  },
  {
   "cell_type": "code",
   "execution_count": 35,
   "metadata": {},
   "outputs": [
    {
     "data": {
      "text/plain": [
       "array([39.981426  ,  0.92365598,  5.44648639, ...,  4.13526507,\n",
       "        3.27612789,  0.08225299])"
      ]
     },
     "execution_count": 35,
     "metadata": {},
     "output_type": "execute_result"
    }
   ],
   "source": [
    "result"
   ]
  },
  {
   "cell_type": "code",
   "execution_count": 36,
   "metadata": {},
   "outputs": [
    {
     "data": {
      "text/plain": [
       "(5000,)"
      ]
     },
     "execution_count": 36,
     "metadata": {},
     "output_type": "execute_result"
    }
   ],
   "source": [
    "result.shape"
   ]
  },
  {
   "cell_type": "code",
   "execution_count": 37,
   "metadata": {},
   "outputs": [],
   "source": [
    "#Convert to DataFrame and (in following cells), format to match submission requirement\n",
    "result_df = pd.DataFrame(result)"
   ]
  },
  {
   "cell_type": "code",
   "execution_count": 38,
   "metadata": {},
   "outputs": [],
   "source": [
    "result_df = result_df.reset_index()"
   ]
  },
  {
   "cell_type": "code",
   "execution_count": 39,
   "metadata": {},
   "outputs": [],
   "source": [
    "result_df.columns = ['id', 'permeability']"
   ]
  },
  {
   "cell_type": "code",
   "execution_count": 40,
   "metadata": {},
   "outputs": [
    {
     "data": {
      "text/html": [
       "<div>\n",
       "<style scoped>\n",
       "    .dataframe tbody tr th:only-of-type {\n",
       "        vertical-align: middle;\n",
       "    }\n",
       "\n",
       "    .dataframe tbody tr th {\n",
       "        vertical-align: top;\n",
       "    }\n",
       "\n",
       "    .dataframe thead th {\n",
       "        text-align: right;\n",
       "    }\n",
       "</style>\n",
       "<table border=\"1\" class=\"dataframe\">\n",
       "  <thead>\n",
       "    <tr style=\"text-align: right;\">\n",
       "      <th></th>\n",
       "      <th>id</th>\n",
       "      <th>permeability</th>\n",
       "    </tr>\n",
       "  </thead>\n",
       "  <tbody>\n",
       "    <tr>\n",
       "      <th>0</th>\n",
       "      <td>0</td>\n",
       "      <td>39.981426</td>\n",
       "    </tr>\n",
       "    <tr>\n",
       "      <th>1</th>\n",
       "      <td>1</td>\n",
       "      <td>0.923656</td>\n",
       "    </tr>\n",
       "    <tr>\n",
       "      <th>2</th>\n",
       "      <td>2</td>\n",
       "      <td>5.446486</td>\n",
       "    </tr>\n",
       "    <tr>\n",
       "      <th>3</th>\n",
       "      <td>3</td>\n",
       "      <td>5.287280</td>\n",
       "    </tr>\n",
       "    <tr>\n",
       "      <th>4</th>\n",
       "      <td>4</td>\n",
       "      <td>4.677603</td>\n",
       "    </tr>\n",
       "    <tr>\n",
       "      <th>...</th>\n",
       "      <td>...</td>\n",
       "      <td>...</td>\n",
       "    </tr>\n",
       "    <tr>\n",
       "      <th>4995</th>\n",
       "      <td>4995</td>\n",
       "      <td>0.517740</td>\n",
       "    </tr>\n",
       "    <tr>\n",
       "      <th>4996</th>\n",
       "      <td>4996</td>\n",
       "      <td>1.512336</td>\n",
       "    </tr>\n",
       "    <tr>\n",
       "      <th>4997</th>\n",
       "      <td>4997</td>\n",
       "      <td>4.135265</td>\n",
       "    </tr>\n",
       "    <tr>\n",
       "      <th>4998</th>\n",
       "      <td>4998</td>\n",
       "      <td>3.276128</td>\n",
       "    </tr>\n",
       "    <tr>\n",
       "      <th>4999</th>\n",
       "      <td>4999</td>\n",
       "      <td>0.082253</td>\n",
       "    </tr>\n",
       "  </tbody>\n",
       "</table>\n",
       "<p>5000 rows × 2 columns</p>\n",
       "</div>"
      ],
      "text/plain": [
       "        id  permeability\n",
       "0        0     39.981426\n",
       "1        1      0.923656\n",
       "2        2      5.446486\n",
       "3        3      5.287280\n",
       "4        4      4.677603\n",
       "...    ...           ...\n",
       "4995  4995      0.517740\n",
       "4996  4996      1.512336\n",
       "4997  4997      4.135265\n",
       "4998  4998      3.276128\n",
       "4999  4999      0.082253\n",
       "\n",
       "[5000 rows x 2 columns]"
      ]
     },
     "execution_count": 40,
     "metadata": {},
     "output_type": "execute_result"
    }
   ],
   "source": [
    "result_df"
   ]
  },
  {
   "cell_type": "code",
   "execution_count": 277,
   "metadata": {},
   "outputs": [],
   "source": [
    "#Export, making sure to remove index\n",
    "#result_df.to_csv('submission_parker_21_03_20.csv', index=False)"
   ]
  },
  {
   "cell_type": "code",
   "execution_count": null,
   "metadata": {},
   "outputs": [],
   "source": []
  },
  {
   "cell_type": "code",
   "execution_count": null,
   "metadata": {},
   "outputs": [],
   "source": []
  },
  {
   "cell_type": "code",
   "execution_count": null,
   "metadata": {},
   "outputs": [],
   "source": []
  },
  {
   "cell_type": "code",
   "execution_count": null,
   "metadata": {},
   "outputs": [],
   "source": []
  },
  {
   "cell_type": "code",
   "execution_count": null,
   "metadata": {},
   "outputs": [],
   "source": []
  },
  {
   "cell_type": "code",
   "execution_count": null,
   "metadata": {},
   "outputs": [],
   "source": []
  }
 ],
 "metadata": {
  "kernelspec": {
   "display_name": "Python 3",
   "language": "python",
   "name": "python3"
  },
  "language_info": {
   "codemirror_mode": {
    "name": "ipython",
    "version": 3
   },
   "file_extension": ".py",
   "mimetype": "text/x-python",
   "name": "python",
   "nbconvert_exporter": "python",
   "pygments_lexer": "ipython3",
   "version": "3.8.3"
  }
 },
 "nbformat": 4,
 "nbformat_minor": 4
}
